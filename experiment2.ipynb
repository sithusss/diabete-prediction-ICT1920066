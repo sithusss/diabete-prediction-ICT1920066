{
 "cells": [
  {
   "cell_type": "code",
   "execution_count": 2,
   "id": "c58be2ed",
   "metadata": {},
   "outputs": [
    {
     "name": "stdout",
     "output_type": "stream",
     "text": [
      "Requirement already satisfied: tensorflow in c:\\users\\ww\\anaconda3\\envs\\iis\\lib\\site-packages (2.11.0)\n",
      "Requirement already satisfied: seaborn in c:\\users\\ww\\anaconda3\\envs\\iis\\lib\\site-packages (0.12.2)\n",
      "Requirement already satisfied: tensorflow-intel==2.11.0 in c:\\users\\ww\\anaconda3\\envs\\iis\\lib\\site-packages (from tensorflow) (2.11.0)\n",
      "Requirement already satisfied: absl-py>=1.0.0 in c:\\users\\ww\\anaconda3\\envs\\iis\\lib\\site-packages (from tensorflow-intel==2.11.0->tensorflow) (2.1.0)\n",
      "Requirement already satisfied: astunparse>=1.6.0 in c:\\users\\ww\\anaconda3\\envs\\iis\\lib\\site-packages (from tensorflow-intel==2.11.0->tensorflow) (1.6.3)\n",
      "Requirement already satisfied: flatbuffers>=2.0 in c:\\users\\ww\\anaconda3\\envs\\iis\\lib\\site-packages (from tensorflow-intel==2.11.0->tensorflow) (24.3.25)\n",
      "Requirement already satisfied: gast<=0.4.0,>=0.2.1 in c:\\users\\ww\\anaconda3\\envs\\iis\\lib\\site-packages (from tensorflow-intel==2.11.0->tensorflow) (0.4.0)\n",
      "Requirement already satisfied: google-pasta>=0.1.1 in c:\\users\\ww\\anaconda3\\envs\\iis\\lib\\site-packages (from tensorflow-intel==2.11.0->tensorflow) (0.2.0)\n",
      "Requirement already satisfied: h5py>=2.9.0 in c:\\users\\ww\\anaconda3\\envs\\iis\\lib\\site-packages (from tensorflow-intel==2.11.0->tensorflow) (3.8.0)\n",
      "Requirement already satisfied: libclang>=13.0.0 in c:\\users\\ww\\anaconda3\\envs\\iis\\lib\\site-packages (from tensorflow-intel==2.11.0->tensorflow) (18.1.1)\n",
      "Requirement already satisfied: numpy>=1.20 in c:\\users\\ww\\anaconda3\\envs\\iis\\lib\\site-packages (from tensorflow-intel==2.11.0->tensorflow) (1.21.6)\n",
      "Requirement already satisfied: opt-einsum>=2.3.2 in c:\\users\\ww\\anaconda3\\envs\\iis\\lib\\site-packages (from tensorflow-intel==2.11.0->tensorflow) (3.3.0)\n",
      "Requirement already satisfied: packaging in c:\\users\\ww\\anaconda3\\envs\\iis\\lib\\site-packages (from tensorflow-intel==2.11.0->tensorflow) (24.0)\n",
      "Requirement already satisfied: protobuf<3.20,>=3.9.2 in c:\\users\\ww\\anaconda3\\envs\\iis\\lib\\site-packages (from tensorflow-intel==2.11.0->tensorflow) (3.19.6)\n",
      "Requirement already satisfied: setuptools in c:\\users\\ww\\anaconda3\\envs\\iis\\lib\\site-packages (from tensorflow-intel==2.11.0->tensorflow) (65.6.3)\n",
      "Requirement already satisfied: six>=1.12.0 in c:\\users\\ww\\anaconda3\\envs\\iis\\lib\\site-packages (from tensorflow-intel==2.11.0->tensorflow) (1.16.0)\n",
      "Requirement already satisfied: termcolor>=1.1.0 in c:\\users\\ww\\anaconda3\\envs\\iis\\lib\\site-packages (from tensorflow-intel==2.11.0->tensorflow) (2.3.0)\n",
      "Requirement already satisfied: typing-extensions>=3.6.6 in c:\\users\\ww\\anaconda3\\envs\\iis\\lib\\site-packages (from tensorflow-intel==2.11.0->tensorflow) (4.7.1)\n",
      "Requirement already satisfied: wrapt>=1.11.0 in c:\\users\\ww\\anaconda3\\envs\\iis\\lib\\site-packages (from tensorflow-intel==2.11.0->tensorflow) (1.16.0)\n",
      "Requirement already satisfied: grpcio<2.0,>=1.24.3 in c:\\users\\ww\\anaconda3\\envs\\iis\\lib\\site-packages (from tensorflow-intel==2.11.0->tensorflow) (1.62.2)\n",
      "Requirement already satisfied: tensorboard<2.12,>=2.11 in c:\\users\\ww\\anaconda3\\envs\\iis\\lib\\site-packages (from tensorflow-intel==2.11.0->tensorflow) (2.11.2)\n",
      "Requirement already satisfied: tensorflow-estimator<2.12,>=2.11.0 in c:\\users\\ww\\anaconda3\\envs\\iis\\lib\\site-packages (from tensorflow-intel==2.11.0->tensorflow) (2.11.0)\n",
      "Requirement already satisfied: keras<2.12,>=2.11.0 in c:\\users\\ww\\anaconda3\\envs\\iis\\lib\\site-packages (from tensorflow-intel==2.11.0->tensorflow) (2.11.0)\n",
      "Requirement already satisfied: tensorflow-io-gcs-filesystem>=0.23.1 in c:\\users\\ww\\anaconda3\\envs\\iis\\lib\\site-packages (from tensorflow-intel==2.11.0->tensorflow) (0.31.0)\n",
      "Requirement already satisfied: pandas>=0.25 in c:\\users\\ww\\anaconda3\\envs\\iis\\lib\\site-packages (from seaborn) (1.3.5)\n",
      "Requirement already satisfied: matplotlib!=3.6.1,>=3.1 in c:\\users\\ww\\anaconda3\\envs\\iis\\lib\\site-packages (from seaborn) (3.5.3)\n",
      "Requirement already satisfied: cycler>=0.10 in c:\\users\\ww\\anaconda3\\envs\\iis\\lib\\site-packages (from matplotlib!=3.6.1,>=3.1->seaborn) (0.11.0)\n",
      "Requirement already satisfied: fonttools>=4.22.0 in c:\\users\\ww\\anaconda3\\envs\\iis\\lib\\site-packages (from matplotlib!=3.6.1,>=3.1->seaborn) (4.38.0)\n",
      "Requirement already satisfied: kiwisolver>=1.0.1 in c:\\users\\ww\\anaconda3\\envs\\iis\\lib\\site-packages (from matplotlib!=3.6.1,>=3.1->seaborn) (1.4.5)\n",
      "Requirement already satisfied: pillow>=6.2.0 in c:\\users\\ww\\anaconda3\\envs\\iis\\lib\\site-packages (from matplotlib!=3.6.1,>=3.1->seaborn) (9.5.0)\n",
      "Requirement already satisfied: pyparsing>=2.2.1 in c:\\users\\ww\\anaconda3\\envs\\iis\\lib\\site-packages (from matplotlib!=3.6.1,>=3.1->seaborn) (3.1.2)\n",
      "Requirement already satisfied: python-dateutil>=2.7 in c:\\users\\ww\\anaconda3\\envs\\iis\\lib\\site-packages (from matplotlib!=3.6.1,>=3.1->seaborn) (2.9.0.post0)\n",
      "Requirement already satisfied: pytz>=2017.3 in c:\\users\\ww\\anaconda3\\envs\\iis\\lib\\site-packages (from pandas>=0.25->seaborn) (2024.1)\n",
      "Requirement already satisfied: wheel<1.0,>=0.23.0 in c:\\users\\ww\\anaconda3\\envs\\iis\\lib\\site-packages (from astunparse>=1.6.0->tensorflow-intel==2.11.0->tensorflow) (0.38.4)\n",
      "Requirement already satisfied: google-auth<3,>=1.6.3 in c:\\users\\ww\\anaconda3\\envs\\iis\\lib\\site-packages (from tensorboard<2.12,>=2.11->tensorflow-intel==2.11.0->tensorflow) (2.29.0)\n",
      "Requirement already satisfied: google-auth-oauthlib<0.5,>=0.4.1 in c:\\users\\ww\\anaconda3\\envs\\iis\\lib\\site-packages (from tensorboard<2.12,>=2.11->tensorflow-intel==2.11.0->tensorflow) (0.4.6)\n",
      "Requirement already satisfied: markdown>=2.6.8 in c:\\users\\ww\\anaconda3\\envs\\iis\\lib\\site-packages (from tensorboard<2.12,>=2.11->tensorflow-intel==2.11.0->tensorflow) (3.4.4)\n",
      "Requirement already satisfied: requests<3,>=2.21.0 in c:\\users\\ww\\anaconda3\\envs\\iis\\lib\\site-packages (from tensorboard<2.12,>=2.11->tensorflow-intel==2.11.0->tensorflow) (2.31.0)\n",
      "Requirement already satisfied: tensorboard-data-server<0.7.0,>=0.6.0 in c:\\users\\ww\\anaconda3\\envs\\iis\\lib\\site-packages (from tensorboard<2.12,>=2.11->tensorflow-intel==2.11.0->tensorflow) (0.6.1)\n",
      "Requirement already satisfied: tensorboard-plugin-wit>=1.6.0 in c:\\users\\ww\\anaconda3\\envs\\iis\\lib\\site-packages (from tensorboard<2.12,>=2.11->tensorflow-intel==2.11.0->tensorflow) (1.8.1)\n",
      "Requirement already satisfied: werkzeug>=1.0.1 in c:\\users\\ww\\anaconda3\\envs\\iis\\lib\\site-packages (from tensorboard<2.12,>=2.11->tensorflow-intel==2.11.0->tensorflow) (2.2.3)\n",
      "Requirement already satisfied: cachetools<6.0,>=2.0.0 in c:\\users\\ww\\anaconda3\\envs\\iis\\lib\\site-packages (from google-auth<3,>=1.6.3->tensorboard<2.12,>=2.11->tensorflow-intel==2.11.0->tensorflow) (5.3.3)\n",
      "Requirement already satisfied: pyasn1-modules>=0.2.1 in c:\\users\\ww\\anaconda3\\envs\\iis\\lib\\site-packages (from google-auth<3,>=1.6.3->tensorboard<2.12,>=2.11->tensorflow-intel==2.11.0->tensorflow) (0.3.0)\n",
      "Requirement already satisfied: rsa<5,>=3.1.4 in c:\\users\\ww\\anaconda3\\envs\\iis\\lib\\site-packages (from google-auth<3,>=1.6.3->tensorboard<2.12,>=2.11->tensorflow-intel==2.11.0->tensorflow) (4.9)\n",
      "Requirement already satisfied: requests-oauthlib>=0.7.0 in c:\\users\\ww\\anaconda3\\envs\\iis\\lib\\site-packages (from google-auth-oauthlib<0.5,>=0.4.1->tensorboard<2.12,>=2.11->tensorflow-intel==2.11.0->tensorflow) (2.0.0)\n",
      "Requirement already satisfied: importlib-metadata>=4.4 in c:\\users\\ww\\anaconda3\\envs\\iis\\lib\\site-packages (from markdown>=2.6.8->tensorboard<2.12,>=2.11->tensorflow-intel==2.11.0->tensorflow) (6.7.0)\n",
      "Requirement already satisfied: charset-normalizer<4,>=2 in c:\\users\\ww\\anaconda3\\envs\\iis\\lib\\site-packages (from requests<3,>=2.21.0->tensorboard<2.12,>=2.11->tensorflow-intel==2.11.0->tensorflow) (3.3.2)\n",
      "Requirement already satisfied: idna<4,>=2.5 in c:\\users\\ww\\anaconda3\\envs\\iis\\lib\\site-packages (from requests<3,>=2.21.0->tensorboard<2.12,>=2.11->tensorflow-intel==2.11.0->tensorflow) (3.7)\n",
      "Requirement already satisfied: urllib3<3,>=1.21.1 in c:\\users\\ww\\anaconda3\\envs\\iis\\lib\\site-packages (from requests<3,>=2.21.0->tensorboard<2.12,>=2.11->tensorflow-intel==2.11.0->tensorflow) (2.0.7)\n",
      "Requirement already satisfied: certifi>=2017.4.17 in c:\\users\\ww\\anaconda3\\envs\\iis\\lib\\site-packages (from requests<3,>=2.21.0->tensorboard<2.12,>=2.11->tensorflow-intel==2.11.0->tensorflow) (2022.12.7)\n",
      "Requirement already satisfied: MarkupSafe>=2.1.1 in c:\\users\\ww\\anaconda3\\envs\\iis\\lib\\site-packages (from werkzeug>=1.0.1->tensorboard<2.12,>=2.11->tensorflow-intel==2.11.0->tensorflow) (2.1.5)\n",
      "Requirement already satisfied: zipp>=0.5 in c:\\users\\ww\\anaconda3\\envs\\iis\\lib\\site-packages (from importlib-metadata>=4.4->markdown>=2.6.8->tensorboard<2.12,>=2.11->tensorflow-intel==2.11.0->tensorflow) (3.15.0)\n",
      "Requirement already satisfied: pyasn1<0.6.0,>=0.4.6 in c:\\users\\ww\\anaconda3\\envs\\iis\\lib\\site-packages (from pyasn1-modules>=0.2.1->google-auth<3,>=1.6.3->tensorboard<2.12,>=2.11->tensorflow-intel==2.11.0->tensorflow) (0.5.1)\n",
      "Requirement already satisfied: oauthlib>=3.0.0 in c:\\users\\ww\\anaconda3\\envs\\iis\\lib\\site-packages (from requests-oauthlib>=0.7.0->google-auth-oauthlib<0.5,>=0.4.1->tensorboard<2.12,>=2.11->tensorflow-intel==2.11.0->tensorflow) (3.2.2)\n",
      "Note: you may need to restart the kernel to use updated packages.\n"
     ]
    }
   ],
   "source": [
    "%pip install tensorflow seaborn\n",
    "\n",
    "import pandas as pd\n",
    "import numpy as np\n",
    "import matplotlib.pyplot as plt\n",
    "import seaborn as sns\n",
    "\n",
    "from sklearn.model_selection import train_test_split\n",
    "from sklearn.impute import KNNImputer\n",
    "from sklearn.preprocessing import StandardScaler\n",
    "from sklearn.metrics import confusion_matrix, accuracy_score, precision_score, recall_score, f1_score, roc_curve, auc\n",
    "\n",
    "import tensorflow as tf\n",
    "from tensorflow import keras\n",
    "from tensorflow.keras import layers\n"
   ]
  },
  {
   "cell_type": "markdown",
   "id": "65f02e4e",
   "metadata": {},
   "source": [
    "load dataset"
   ]
  },
  {
   "cell_type": "code",
   "execution_count": 3,
   "id": "cc1ea34d",
   "metadata": {},
   "outputs": [
    {
     "data": {
      "text/html": [
       "<div>\n",
       "<style scoped>\n",
       "    .dataframe tbody tr th:only-of-type {\n",
       "        vertical-align: middle;\n",
       "    }\n",
       "\n",
       "    .dataframe tbody tr th {\n",
       "        vertical-align: top;\n",
       "    }\n",
       "\n",
       "    .dataframe thead th {\n",
       "        text-align: right;\n",
       "    }\n",
       "</style>\n",
       "<table border=\"1\" class=\"dataframe\">\n",
       "  <thead>\n",
       "    <tr style=\"text-align: right;\">\n",
       "      <th></th>\n",
       "      <th>Pregnancies</th>\n",
       "      <th>Glucose</th>\n",
       "      <th>BloodPressure</th>\n",
       "      <th>SkinThickness</th>\n",
       "      <th>Insulin</th>\n",
       "      <th>BMI</th>\n",
       "      <th>DiabetesPedigreeFunction</th>\n",
       "      <th>Age</th>\n",
       "      <th>Outcome</th>\n",
       "    </tr>\n",
       "  </thead>\n",
       "  <tbody>\n",
       "    <tr>\n",
       "      <th>0</th>\n",
       "      <td>6</td>\n",
       "      <td>148</td>\n",
       "      <td>72</td>\n",
       "      <td>35</td>\n",
       "      <td>0</td>\n",
       "      <td>33.6</td>\n",
       "      <td>0.627</td>\n",
       "      <td>50</td>\n",
       "      <td>1</td>\n",
       "    </tr>\n",
       "    <tr>\n",
       "      <th>1</th>\n",
       "      <td>1</td>\n",
       "      <td>85</td>\n",
       "      <td>66</td>\n",
       "      <td>29</td>\n",
       "      <td>0</td>\n",
       "      <td>26.6</td>\n",
       "      <td>0.351</td>\n",
       "      <td>31</td>\n",
       "      <td>0</td>\n",
       "    </tr>\n",
       "    <tr>\n",
       "      <th>2</th>\n",
       "      <td>8</td>\n",
       "      <td>183</td>\n",
       "      <td>64</td>\n",
       "      <td>0</td>\n",
       "      <td>0</td>\n",
       "      <td>23.3</td>\n",
       "      <td>0.672</td>\n",
       "      <td>32</td>\n",
       "      <td>1</td>\n",
       "    </tr>\n",
       "    <tr>\n",
       "      <th>3</th>\n",
       "      <td>1</td>\n",
       "      <td>89</td>\n",
       "      <td>66</td>\n",
       "      <td>23</td>\n",
       "      <td>94</td>\n",
       "      <td>28.1</td>\n",
       "      <td>0.167</td>\n",
       "      <td>21</td>\n",
       "      <td>0</td>\n",
       "    </tr>\n",
       "    <tr>\n",
       "      <th>4</th>\n",
       "      <td>0</td>\n",
       "      <td>137</td>\n",
       "      <td>40</td>\n",
       "      <td>35</td>\n",
       "      <td>168</td>\n",
       "      <td>43.1</td>\n",
       "      <td>2.288</td>\n",
       "      <td>33</td>\n",
       "      <td>1</td>\n",
       "    </tr>\n",
       "  </tbody>\n",
       "</table>\n",
       "</div>"
      ],
      "text/plain": [
       "   Pregnancies  Glucose  BloodPressure  SkinThickness  Insulin   BMI  \\\n",
       "0            6      148             72             35        0  33.6   \n",
       "1            1       85             66             29        0  26.6   \n",
       "2            8      183             64              0        0  23.3   \n",
       "3            1       89             66             23       94  28.1   \n",
       "4            0      137             40             35      168  43.1   \n",
       "\n",
       "   DiabetesPedigreeFunction  Age  Outcome  \n",
       "0                     0.627   50        1  \n",
       "1                     0.351   31        0  \n",
       "2                     0.672   32        1  \n",
       "3                     0.167   21        0  \n",
       "4                     2.288   33        1  "
      ]
     },
     "execution_count": 3,
     "metadata": {},
     "output_type": "execute_result"
    }
   ],
   "source": [
    "# Load Pima Indian Diabetes dataset\n",
    "df = pd.read_csv(\"F:/RUSL/4- 1/ICT 4302 - Intelligent Systems/miniProject1/diabetes.csv\")\n",
    "\n",
    "df.columns = df.columns.str.strip()  # Clean header spaces\n",
    "for col in df.columns:\n",
    "    if col != 'Outcome':\n",
    "        df[col] = pd.to_numeric(df[col], errors='coerce')  # Convert non-numeric to NaN\n",
    "\n",
    "numeric_df = df.select_dtypes(include=['number'])\n",
    "\n",
    "X = numeric_df.drop('Outcome', axis=1)\n",
    "y = numeric_df['Outcome']\n",
    "\n",
    "\n",
    "df.head()\n"
   ]
  },
  {
   "cell_type": "markdown",
   "id": "0f10896e",
   "metadata": {},
   "source": [
    "Data preprocessing"
   ]
  },
  {
   "cell_type": "markdown",
   "id": "66be9c89",
   "metadata": {},
   "source": [
    "step 1 - Replace invalid zeros with NaN (handle missing values)"
   ]
  },
  {
   "cell_type": "code",
   "execution_count": 4,
   "id": "e9d877b1",
   "metadata": {},
   "outputs": [],
   "source": [
    "cols_with_missing = [\"Glucose\", \"BloodPressure\", \"SkinThickness\", \"Insulin\", \"BMI\"]\n",
    "\n",
    "# Replace 0 with np.nan only for these features\n",
    "df[cols_with_missing] = df[cols_with_missing].replace(0, np.nan)\n"
   ]
  },
  {
   "cell_type": "code",
   "execution_count": 5,
   "id": "5e01eb5a",
   "metadata": {},
   "outputs": [],
   "source": [
    "# Remove rows with too many missing values\n",
    "def drop_rows_with_many_missing(df, threshold_cols=4):\n",
    "    return df[df[cols_with_missing].isnull().sum(axis=1) < threshold_cols]\n",
    "\n",
    "df = drop_rows_with_many_missing(df)"
   ]
  },
  {
   "cell_type": "code",
   "execution_count": 6,
   "id": "70f3ed1b",
   "metadata": {},
   "outputs": [],
   "source": [
    "# Define columns for different strategies\n",
    "median_columns = [\"Glucose\", \"BloodPressure\"]\n",
    "knn_columns = [\"SkinThickness\", \"Insulin\", \"BMI\"]"
   ]
  },
  {
   "cell_type": "markdown",
   "id": "1f36f800",
   "metadata": {},
   "source": [
    "step 2 - fill missing values using the median of the same class"
   ]
  },
  {
   "cell_type": "code",
   "execution_count": 7,
   "id": "234b6cda",
   "metadata": {},
   "outputs": [],
   "source": [
    "# Apply same-class median imputation\n",
    "def impute_same_class_median(df, columns, class_col=\"Outcome\"):\n",
    "    for col in columns:\n",
    "        df[col] = df.groupby(class_col)[col].transform(lambda x: x.fillna(x.median()))\n",
    "    return df\n",
    "\n",
    "df = impute_same_class_median(df, median_columns)"
   ]
  },
  {
   "cell_type": "code",
   "execution_count": 8,
   "id": "e76a243d",
   "metadata": {},
   "outputs": [],
   "source": [
    "# Apply KNN Imputer for selected columns\n",
    "def knn_impute(df, columns, n_neighbors=5):\n",
    "    imputer = KNNImputer(n_neighbors=n_neighbors)\n",
    "    df[columns] = imputer.fit_transform(df[columns])\n",
    "    return df\n",
    "\n",
    "df = knn_impute(df, knn_columns)"
   ]
  },
  {
   "cell_type": "code",
   "execution_count": 9,
   "id": "46f31760",
   "metadata": {},
   "outputs": [],
   "source": [
    "# Normalize features (optional but recommended)\n",
    "from sklearn.preprocessing import MinMaxScaler\n",
    "\n",
    "\n",
    "features = df.columns[:-1]  # Exclude Outcome\n",
    "scaler = MinMaxScaler()\n",
    "df[features] = scaler.fit_transform(df[features])"
   ]
  },
  {
   "cell_type": "code",
   "execution_count": 10,
   "id": "2dd0069e",
   "metadata": {},
   "outputs": [
    {
     "name": "stdout",
     "output_type": "stream",
     "text": [
      "✅ Cleaned dataset ready for model:\n"
     ]
    },
    {
     "data": {
      "text/html": [
       "<div>\n",
       "<style scoped>\n",
       "    .dataframe tbody tr th:only-of-type {\n",
       "        vertical-align: middle;\n",
       "    }\n",
       "\n",
       "    .dataframe tbody tr th {\n",
       "        vertical-align: top;\n",
       "    }\n",
       "\n",
       "    .dataframe thead th {\n",
       "        text-align: right;\n",
       "    }\n",
       "</style>\n",
       "<table border=\"1\" class=\"dataframe\">\n",
       "  <thead>\n",
       "    <tr style=\"text-align: right;\">\n",
       "      <th></th>\n",
       "      <th>Pregnancies</th>\n",
       "      <th>Glucose</th>\n",
       "      <th>BloodPressure</th>\n",
       "      <th>SkinThickness</th>\n",
       "      <th>Insulin</th>\n",
       "      <th>BMI</th>\n",
       "      <th>DiabetesPedigreeFunction</th>\n",
       "      <th>Age</th>\n",
       "      <th>Outcome</th>\n",
       "    </tr>\n",
       "  </thead>\n",
       "  <tbody>\n",
       "    <tr>\n",
       "      <th>0</th>\n",
       "      <td>0.352941</td>\n",
       "      <td>0.670968</td>\n",
       "      <td>0.489796</td>\n",
       "      <td>0.304348</td>\n",
       "      <td>0.213221</td>\n",
       "      <td>0.314928</td>\n",
       "      <td>0.234415</td>\n",
       "      <td>0.483333</td>\n",
       "      <td>1</td>\n",
       "    </tr>\n",
       "    <tr>\n",
       "      <th>1</th>\n",
       "      <td>0.058824</td>\n",
       "      <td>0.264516</td>\n",
       "      <td>0.428571</td>\n",
       "      <td>0.239130</td>\n",
       "      <td>0.128125</td>\n",
       "      <td>0.171779</td>\n",
       "      <td>0.116567</td>\n",
       "      <td>0.166667</td>\n",
       "      <td>0</td>\n",
       "    </tr>\n",
       "    <tr>\n",
       "      <th>2</th>\n",
       "      <td>0.470588</td>\n",
       "      <td>0.896774</td>\n",
       "      <td>0.408163</td>\n",
       "      <td>0.106522</td>\n",
       "      <td>0.106010</td>\n",
       "      <td>0.104294</td>\n",
       "      <td>0.253629</td>\n",
       "      <td>0.183333</td>\n",
       "      <td>1</td>\n",
       "    </tr>\n",
       "    <tr>\n",
       "      <th>3</th>\n",
       "      <td>0.058824</td>\n",
       "      <td>0.290323</td>\n",
       "      <td>0.428571</td>\n",
       "      <td>0.173913</td>\n",
       "      <td>0.096154</td>\n",
       "      <td>0.202454</td>\n",
       "      <td>0.038002</td>\n",
       "      <td>0.000000</td>\n",
       "      <td>0</td>\n",
       "    </tr>\n",
       "    <tr>\n",
       "      <th>4</th>\n",
       "      <td>0.000000</td>\n",
       "      <td>0.600000</td>\n",
       "      <td>0.163265</td>\n",
       "      <td>0.304348</td>\n",
       "      <td>0.185096</td>\n",
       "      <td>0.509202</td>\n",
       "      <td>0.943638</td>\n",
       "      <td>0.200000</td>\n",
       "      <td>1</td>\n",
       "    </tr>\n",
       "  </tbody>\n",
       "</table>\n",
       "</div>"
      ],
      "text/plain": [
       "   Pregnancies   Glucose  BloodPressure  SkinThickness   Insulin       BMI  \\\n",
       "0     0.352941  0.670968       0.489796       0.304348  0.213221  0.314928   \n",
       "1     0.058824  0.264516       0.428571       0.239130  0.128125  0.171779   \n",
       "2     0.470588  0.896774       0.408163       0.106522  0.106010  0.104294   \n",
       "3     0.058824  0.290323       0.428571       0.173913  0.096154  0.202454   \n",
       "4     0.000000  0.600000       0.163265       0.304348  0.185096  0.509202   \n",
       "\n",
       "   DiabetesPedigreeFunction       Age  Outcome  \n",
       "0                  0.234415  0.483333        1  \n",
       "1                  0.116567  0.166667        0  \n",
       "2                  0.253629  0.183333        1  \n",
       "3                  0.038002  0.000000        0  \n",
       "4                  0.943638  0.200000        1  "
      ]
     },
     "metadata": {},
     "output_type": "display_data"
    }
   ],
   "source": [
    "print(\"✅ Cleaned dataset ready for model:\")\n",
    "display(df.head())"
   ]
  },
  {
   "cell_type": "markdown",
   "id": "7f51debc",
   "metadata": {},
   "source": [
    "data split"
   ]
  },
  {
   "cell_type": "code",
   "execution_count": 11,
   "id": "b5046efb",
   "metadata": {},
   "outputs": [],
   "source": [
    "# Train-test split\n",
    "X_train, X_test, y_train, y_test = train_test_split(X, y, test_size=0.2, random_state=42)\n"
   ]
  },
  {
   "cell_type": "markdown",
   "id": "5ac6ee65",
   "metadata": {},
   "source": [
    "build custom keras model"
   ]
  },
  {
   "cell_type": "code",
   "execution_count": 12,
   "id": "01952902",
   "metadata": {},
   "outputs": [],
   "source": [
    "model = keras.Sequential([\n",
    "    layers.Dense(16, activation='relu', input_shape=(X_train.shape[1],)),\n",
    "    layers.Dense(8, activation='relu'),\n",
    "    layers.Dense(1, activation='sigmoid')  # Binary output\n",
    "])\n",
    "\n",
    "model.compile(optimizer='adam',\n",
    "              loss='binary_crossentropy',\n",
    "              metrics=['accuracy'])\n",
    "#"
   ]
  },
  {
   "cell_type": "code",
   "execution_count": 13,
   "id": "05af3258",
   "metadata": {},
   "outputs": [
    {
     "name": "stdout",
     "output_type": "stream",
     "text": [
      "Model: \"sequential\"\n",
      "_________________________________________________________________\n",
      " Layer (type)                Output Shape              Param #   \n",
      "=================================================================\n",
      " dense (Dense)               (None, 16)                144       \n",
      "                                                                 \n",
      " dense_1 (Dense)             (None, 8)                 136       \n",
      "                                                                 \n",
      " dense_2 (Dense)             (None, 1)                 9         \n",
      "                                                                 \n",
      "=================================================================\n",
      "Total params: 289\n",
      "Trainable params: 289\n",
      "Non-trainable params: 0\n",
      "_________________________________________________________________\n"
     ]
    }
   ],
   "source": [
    "model.summary()"
   ]
  },
  {
   "cell_type": "markdown",
   "id": "d56de807",
   "metadata": {},
   "source": [
    "Train the model"
   ]
  },
  {
   "cell_type": "code",
   "execution_count": 14,
   "id": "ef3ff782",
   "metadata": {},
   "outputs": [
    {
     "name": "stdout",
     "output_type": "stream",
     "text": [
      "Epoch 1/50\n",
      "35/35 - 3s - loss: 6.7183 - accuracy: 0.6069 - val_loss: 1.2110 - val_accuracy: 0.4516 - 3s/epoch - 99ms/step\n",
      "Epoch 2/50\n",
      "35/35 - 0s - loss: 1.1759 - accuracy: 0.3714 - val_loss: 0.6998 - val_accuracy: 0.4032 - 231ms/epoch - 7ms/step\n",
      "Epoch 3/50\n",
      "35/35 - 0s - loss: 0.8363 - accuracy: 0.5127 - val_loss: 0.6524 - val_accuracy: 0.6935 - 239ms/epoch - 7ms/step\n",
      "Epoch 4/50\n",
      "35/35 - 0s - loss: 0.7670 - accuracy: 0.5888 - val_loss: 0.6370 - val_accuracy: 0.6935 - 231ms/epoch - 7ms/step\n",
      "Epoch 5/50\n",
      "35/35 - 0s - loss: 0.7599 - accuracy: 0.6159 - val_loss: 0.6704 - val_accuracy: 0.6935 - 240ms/epoch - 7ms/step\n",
      "Epoch 6/50\n",
      "35/35 - 0s - loss: 0.7183 - accuracy: 0.6304 - val_loss: 0.6462 - val_accuracy: 0.6935 - 221ms/epoch - 6ms/step\n",
      "Epoch 7/50\n",
      "35/35 - 0s - loss: 0.6924 - accuracy: 0.6413 - val_loss: 0.6356 - val_accuracy: 0.7258 - 223ms/epoch - 6ms/step\n",
      "Epoch 8/50\n",
      "35/35 - 0s - loss: 0.7040 - accuracy: 0.6449 - val_loss: 0.6378 - val_accuracy: 0.7258 - 188ms/epoch - 5ms/step\n",
      "Epoch 9/50\n",
      "35/35 - 0s - loss: 0.6880 - accuracy: 0.6504 - val_loss: 0.6414 - val_accuracy: 0.7258 - 145ms/epoch - 4ms/step\n",
      "Epoch 10/50\n",
      "35/35 - 0s - loss: 0.6917 - accuracy: 0.6594 - val_loss: 0.6544 - val_accuracy: 0.7258 - 131ms/epoch - 4ms/step\n",
      "Epoch 11/50\n",
      "35/35 - 0s - loss: 0.6608 - accuracy: 0.6775 - val_loss: 0.6420 - val_accuracy: 0.7097 - 130ms/epoch - 4ms/step\n",
      "Epoch 12/50\n",
      "35/35 - 0s - loss: 0.6550 - accuracy: 0.6793 - val_loss: 0.6407 - val_accuracy: 0.7097 - 119ms/epoch - 3ms/step\n",
      "Epoch 13/50\n",
      "35/35 - 0s - loss: 0.6648 - accuracy: 0.6558 - val_loss: 0.6480 - val_accuracy: 0.6935 - 131ms/epoch - 4ms/step\n",
      "Epoch 14/50\n",
      "35/35 - 0s - loss: 0.6495 - accuracy: 0.6739 - val_loss: 0.6392 - val_accuracy: 0.7097 - 120ms/epoch - 3ms/step\n",
      "Epoch 15/50\n",
      "35/35 - 0s - loss: 0.6452 - accuracy: 0.6667 - val_loss: 0.6399 - val_accuracy: 0.6774 - 114ms/epoch - 3ms/step\n",
      "Epoch 16/50\n",
      "35/35 - 0s - loss: 0.6472 - accuracy: 0.6721 - val_loss: 0.6338 - val_accuracy: 0.6935 - 117ms/epoch - 3ms/step\n",
      "Epoch 17/50\n",
      "35/35 - 0s - loss: 0.6528 - accuracy: 0.6630 - val_loss: 0.6344 - val_accuracy: 0.6935 - 120ms/epoch - 3ms/step\n",
      "Epoch 18/50\n",
      "35/35 - 0s - loss: 0.6422 - accuracy: 0.6667 - val_loss: 0.6354 - val_accuracy: 0.7097 - 126ms/epoch - 4ms/step\n",
      "Epoch 19/50\n",
      "35/35 - 0s - loss: 0.6497 - accuracy: 0.6649 - val_loss: 0.6331 - val_accuracy: 0.6935 - 129ms/epoch - 4ms/step\n",
      "Epoch 20/50\n",
      "35/35 - 0s - loss: 0.6392 - accuracy: 0.6667 - val_loss: 0.6355 - val_accuracy: 0.6774 - 146ms/epoch - 4ms/step\n",
      "Epoch 21/50\n",
      "35/35 - 0s - loss: 0.6353 - accuracy: 0.6649 - val_loss: 0.6325 - val_accuracy: 0.6935 - 300ms/epoch - 9ms/step\n",
      "Epoch 22/50\n",
      "35/35 - 0s - loss: 0.6333 - accuracy: 0.6775 - val_loss: 0.6337 - val_accuracy: 0.6613 - 216ms/epoch - 6ms/step\n",
      "Epoch 23/50\n",
      "35/35 - 0s - loss: 0.6356 - accuracy: 0.6721 - val_loss: 0.6329 - val_accuracy: 0.6774 - 173ms/epoch - 5ms/step\n",
      "Epoch 24/50\n",
      "35/35 - 0s - loss: 0.6321 - accuracy: 0.6775 - val_loss: 0.6322 - val_accuracy: 0.6935 - 277ms/epoch - 8ms/step\n",
      "Epoch 25/50\n",
      "35/35 - 0s - loss: 0.6293 - accuracy: 0.6793 - val_loss: 0.6324 - val_accuracy: 0.6774 - 314ms/epoch - 9ms/step\n",
      "Epoch 26/50\n",
      "35/35 - 0s - loss: 0.6290 - accuracy: 0.6739 - val_loss: 0.6264 - val_accuracy: 0.6935 - 256ms/epoch - 7ms/step\n",
      "Epoch 27/50\n",
      "35/35 - 0s - loss: 0.6269 - accuracy: 0.6866 - val_loss: 0.6256 - val_accuracy: 0.6935 - 322ms/epoch - 9ms/step\n",
      "Epoch 28/50\n",
      "35/35 - 0s - loss: 0.6430 - accuracy: 0.6594 - val_loss: 0.6216 - val_accuracy: 0.6935 - 286ms/epoch - 8ms/step\n",
      "Epoch 29/50\n",
      "35/35 - 0s - loss: 0.6343 - accuracy: 0.6612 - val_loss: 0.6265 - val_accuracy: 0.6935 - 200ms/epoch - 6ms/step\n",
      "Epoch 30/50\n",
      "35/35 - 0s - loss: 0.6384 - accuracy: 0.6685 - val_loss: 0.6280 - val_accuracy: 0.6935 - 234ms/epoch - 7ms/step\n",
      "Epoch 31/50\n",
      "35/35 - 0s - loss: 0.6251 - accuracy: 0.6830 - val_loss: 0.6248 - val_accuracy: 0.6935 - 440ms/epoch - 13ms/step\n",
      "Epoch 32/50\n",
      "35/35 - 0s - loss: 0.6278 - accuracy: 0.6793 - val_loss: 0.6369 - val_accuracy: 0.6290 - 348ms/epoch - 10ms/step\n",
      "Epoch 33/50\n",
      "35/35 - 0s - loss: 0.6226 - accuracy: 0.6739 - val_loss: 0.6203 - val_accuracy: 0.6935 - 262ms/epoch - 7ms/step\n",
      "Epoch 34/50\n",
      "35/35 - 0s - loss: 0.6189 - accuracy: 0.6775 - val_loss: 0.6240 - val_accuracy: 0.6935 - 307ms/epoch - 9ms/step\n",
      "Epoch 35/50\n",
      "35/35 - 0s - loss: 0.6212 - accuracy: 0.6830 - val_loss: 0.6152 - val_accuracy: 0.7097 - 267ms/epoch - 8ms/step\n",
      "Epoch 36/50\n",
      "35/35 - 0s - loss: 0.6229 - accuracy: 0.6830 - val_loss: 0.6132 - val_accuracy: 0.7097 - 272ms/epoch - 8ms/step\n",
      "Epoch 37/50\n",
      "35/35 - 0s - loss: 0.6223 - accuracy: 0.6685 - val_loss: 0.6140 - val_accuracy: 0.7097 - 217ms/epoch - 6ms/step\n",
      "Epoch 38/50\n",
      "35/35 - 0s - loss: 0.6272 - accuracy: 0.6721 - val_loss: 0.6124 - val_accuracy: 0.7097 - 176ms/epoch - 5ms/step\n",
      "Epoch 39/50\n",
      "35/35 - 0s - loss: 0.6167 - accuracy: 0.6830 - val_loss: 0.6259 - val_accuracy: 0.6774 - 190ms/epoch - 5ms/step\n",
      "Epoch 40/50\n",
      "35/35 - 0s - loss: 0.6167 - accuracy: 0.6793 - val_loss: 0.6128 - val_accuracy: 0.7097 - 257ms/epoch - 7ms/step\n",
      "Epoch 41/50\n",
      "35/35 - 0s - loss: 0.6187 - accuracy: 0.6775 - val_loss: 0.6120 - val_accuracy: 0.6935 - 274ms/epoch - 8ms/step\n",
      "Epoch 42/50\n",
      "35/35 - 0s - loss: 0.6471 - accuracy: 0.6757 - val_loss: 0.6183 - val_accuracy: 0.6935 - 244ms/epoch - 7ms/step\n",
      "Epoch 43/50\n",
      "35/35 - 0s - loss: 0.6124 - accuracy: 0.6848 - val_loss: 0.6082 - val_accuracy: 0.7097 - 209ms/epoch - 6ms/step\n",
      "Epoch 44/50\n",
      "35/35 - 0s - loss: 0.6143 - accuracy: 0.6830 - val_loss: 0.6245 - val_accuracy: 0.6774 - 263ms/epoch - 8ms/step\n",
      "Epoch 45/50\n",
      "35/35 - 0s - loss: 0.6148 - accuracy: 0.6721 - val_loss: 0.6149 - val_accuracy: 0.6935 - 305ms/epoch - 9ms/step\n",
      "Epoch 46/50\n",
      "35/35 - 0s - loss: 0.6150 - accuracy: 0.6739 - val_loss: 0.6183 - val_accuracy: 0.6774 - 201ms/epoch - 6ms/step\n",
      "Epoch 47/50\n",
      "35/35 - 0s - loss: 0.6254 - accuracy: 0.6830 - val_loss: 0.6332 - val_accuracy: 0.6613 - 184ms/epoch - 5ms/step\n",
      "Epoch 48/50\n",
      "35/35 - 0s - loss: 0.6110 - accuracy: 0.6884 - val_loss: 0.6175 - val_accuracy: 0.6935 - 224ms/epoch - 6ms/step\n",
      "Epoch 49/50\n",
      "35/35 - 0s - loss: 0.6088 - accuracy: 0.6848 - val_loss: 0.6065 - val_accuracy: 0.7097 - 209ms/epoch - 6ms/step\n",
      "Epoch 50/50\n",
      "35/35 - 0s - loss: 0.6099 - accuracy: 0.6812 - val_loss: 0.6086 - val_accuracy: 0.7097 - 178ms/epoch - 5ms/step\n"
     ]
    }
   ],
   "source": [
    "history = model.fit(X_train, y_train, epochs=50, batch_size=16, validation_split=0.1, verbose=2)\n",
    "#change epochs as needed"
   ]
  },
  {
   "cell_type": "markdown",
   "id": "b3f14d49",
   "metadata": {},
   "source": [
    "Evaluate the model"
   ]
  },
  {
   "cell_type": "code",
   "execution_count": 15,
   "id": "ca2a6a1d",
   "metadata": {},
   "outputs": [
    {
     "name": "stdout",
     "output_type": "stream",
     "text": [
      "5/5 [==============================] - 0s 3ms/step\n",
      "\n",
      "Classification Report:\n",
      "\n",
      "              precision    recall  f1-score   support\n",
      "\n",
      "           0       0.68      0.97      0.80        99\n",
      "           1       0.77      0.18      0.29        55\n",
      "\n",
      "    accuracy                           0.69       154\n",
      "   macro avg       0.73      0.58      0.55       154\n",
      "weighted avg       0.71      0.69      0.62       154\n",
      "\n",
      "Confusion Matrix:\n",
      "[[96  3]\n",
      " [45 10]]\n",
      "Accuracy: 0.6883116883116883\n",
      "Precision: 0.7692307692307693\n",
      "Recall: 0.18181818181818182\n",
      "F1 Score: 0.29411764705882354\n"
     ]
    }
   ],
   "source": [
    "from sklearn.metrics import (\n",
    "    accuracy_score, precision_score, recall_score,\n",
    "    f1_score, confusion_matrix, classification_report\n",
    ")\n",
    "\n",
    "# Predict probabilities\n",
    "y_pred_prob = model.predict(X_test).ravel()\n",
    "\n",
    "# Convert to binary output\n",
    "y_pred = (y_pred_prob >= 0.5).astype(int)\n",
    "\n",
    "# Classification report\n",
    "print(\"\\nClassification Report:\\n\")\n",
    "print(classification_report(y_test, y_pred))\n",
    "\n",
    "# Confusion Matrix\n",
    "print(\"Confusion Matrix:\")\n",
    "print(confusion_matrix(y_test, y_pred))\n",
    "\n",
    "# Individual metrics\n",
    "print(\"Accuracy:\", accuracy_score(y_test, y_pred))\n",
    "print(\"Precision:\", precision_score(y_test, y_pred))\n",
    "print(\"Recall:\", recall_score(y_test, y_pred))\n",
    "print(\"F1 Score:\", f1_score(y_test, y_pred))\n"
   ]
  },
  {
   "cell_type": "code",
   "execution_count": 16,
   "id": "f1191e4a",
   "metadata": {},
   "outputs": [
    {
     "data": {
      "image/png": "[encoded data removed]",
      "text/plain": [
       "<Figure size 640x480 with 1 Axes>"
      ]
     },
     "metadata": {},
     "output_type": "display_data"
    },
    {
     "data": {
      "image/png": "[encoded data removed]",
      "text/plain": [
       "<Figure size 640x480 with 1 Axes>"
      ]
     },
     "metadata": {},
     "output_type": "display_data"
    }
   ],
   "source": [
    "import matplotlib.pyplot as plt\n",
    "\n",
    "# Plot training & validation accuracy\n",
    "plt.plot(history.history['accuracy'], label='Train Accuracy')\n",
    "plt.plot(history.history['val_accuracy'], label='Val Accuracy')\n",
    "plt.title('Model Accuracy')\n",
    "plt.xlabel('Epoch')\n",
    "plt.ylabel('Accuracy')\n",
    "plt.legend()\n",
    "plt.show()\n",
    "\n",
    "# Plot training & validation loss\n",
    "plt.plot(history.history['loss'], label='Train Loss')\n",
    "plt.plot(history.history['val_loss'], label='Val Loss')\n",
    "plt.title('Model Loss')\n",
    "plt.xlabel('Epoch')\n",
    "plt.ylabel('Loss')\n",
    "plt.legend()\n",
    "plt.show()\n"
   ]
  }
 ],
 "metadata": {
  "kernelspec": {
   "display_name": "IIS",
   "language": "python",
   "name": "python3"
  },
  "language_info": {
   "codemirror_mode": {
    "name": "ipython",
    "version": 3
   },
   "file_extension": ".py",
   "mimetype": "text/x-python",
   "name": "python",
   "nbconvert_exporter": "python",
   "pygments_lexer": "ipython3",
   "version": "3.7.16"
  }
 },
 "nbformat": 4,
 "nbformat_minor": 5
}
